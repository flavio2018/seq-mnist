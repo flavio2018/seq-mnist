{
 "cells": [
  {
   "cell_type": "markdown",
   "id": "6f781e70",
   "metadata": {},
   "source": [
    "Choose data source:"
   ]
  },
  {
   "cell_type": "code",
   "execution_count": 53,
   "id": "e5fcf0b3",
   "metadata": {},
   "outputs": [],
   "source": [
    "smnist = {\n",
    "    \"09-07-22\": {\n",
    "        \"path\": \"../data/interim/memory_readings/dntm/smnist/smnist-2022-07-09-09-21/\", \n",
    "        \"epochs\": [9, 19, 22, 29, 39],\n",
    "    },\n",
    "    \"27-07-22\": {\n",
    "        \"path\": \"../data/interim/memory_readings/dntm/smnist/smnist-2022-07-27/\", \n",
    "        \"epochs\": [0, 10, 20, 30, 40],\n",
    "    },\n",
    "}"
   ]
  },
  {
   "cell_type": "code",
   "execution_count": 33,
   "id": "1fa437b3",
   "metadata": {},
   "outputs": [],
   "source": [
    "smnist_var = {\n",
    "    \"09-08-22\": {\n",
    "        \"path\": \"../data/interim/memory_readings/dntm_var/smnist/smnist-var-2022-08-09/\",\n",
    "        \"epochs\": list(range(0,13)),\n",
    "    }\n",
    "}"
   ]
  },
  {
   "cell_type": "markdown",
   "id": "112e8e6a",
   "metadata": {},
   "source": [
    "---"
   ]
  },
  {
   "cell_type": "code",
   "execution_count": 2,
   "id": "9114b437",
   "metadata": {
    "scrolled": true
   },
   "outputs": [
    {
     "name": "stdout",
     "output_type": "stream",
     "text": [
      "2022-07-05\t\t pmnist-var-2022-08-25_tmp  smnist-2022-07-27\r\n",
      "pmnist-2022-07-09-18-14  smnist-2022-07-09-09-21    smnist-var-2022-08-09\r\n",
      "pmnist-2022-07-14_07-33  smnist-2022-07-19-17-35    smnist-var-2022-08-22\r\n"
     ]
    }
   ],
   "source": [
    "! ls ../data/interim/memory_readings/"
   ]
  },
  {
   "cell_type": "code",
   "execution_count": 2,
   "id": "f0c3254f",
   "metadata": {},
   "outputs": [],
   "source": [
    "import torch\n",
    "import pandas as pd\n",
    "import seaborn as sns\n",
    "import matplotlib.pyplot as plt"
   ]
  },
  {
   "cell_type": "code",
   "execution_count": 3,
   "id": "f291ca8a",
   "metadata": {},
   "outputs": [],
   "source": [
    "from model.dntm.MemoryReadingsStats import MemoryReadingsStats"
   ]
  },
  {
   "cell_type": "code",
   "execution_count": 46,
   "id": "1b7a78e9",
   "metadata": {},
   "outputs": [],
   "source": [
    "mem_readings_stats = MemoryReadingsStats(path=PATH)"
   ]
  },
  {
   "cell_type": "code",
   "execution_count": 47,
   "id": "64cc6013",
   "metadata": {},
   "outputs": [],
   "source": [
    "memory_readings_per_epoch = dict()\n",
    "\n",
    "for epoch in EPOCHS:\n",
    "    mem_readings_stats.load_memory_readings(epoch=epoch)\n",
    "    memory_readings_per_epoch[epoch] = mem_readings_stats.memory_readings"
   ]
  },
  {
   "cell_type": "code",
   "execution_count": 68,
   "id": "9b8fd0a9",
   "metadata": {
    "scrolled": true
   },
   "outputs": [],
   "source": [
    "# Load memory readings smnist\n",
    "mem_readings_df = pd.DataFrame()\n",
    "\n",
    "for model in smnist:\n",
    "    mem_readings_stats = MemoryReadingsStats(path=smnist[model]['path'])\n",
    "    memory_readings_per_epoch = dict()\n",
    "\n",
    "    for epoch in smnist[model]['epochs']:\n",
    "        mem_readings_stats.load_memory_readings(epoch=epoch)\n",
    "        memory_readings_per_epoch[epoch] = mem_readings_stats.memory_readings\n",
    "\n",
    "    for epoch, mem_readings in memory_readings_per_epoch.items():\n",
    "        tmp_df = pd.DataFrame()\n",
    "        tmp_df['epoch'] = [epoch]*len(mem_readings.T)\n",
    "        tmp_df['2-norm'] = torch.norm(mem_readings, dim=0).cpu().numpy()\n",
    "        tmp_df['run'] = [model]*len(mem_readings.T)\n",
    "        mem_readings_df = pd.concat((mem_readings_df, tmp_df))"
   ]
  },
  {
   "cell_type": "code",
   "execution_count": 69,
   "id": "ca17a937",
   "metadata": {},
   "outputs": [],
   "source": [
    "# Concat memory readings smnist var\n",
    "for model in smnist_var:\n",
    "    mem_readings_stats = MemoryReadingsStats(path=smnist_var[model]['path'])\n",
    "    memory_readings_per_epoch = dict()\n",
    "\n",
    "    for epoch in smnist_var[model]['epochs']:\n",
    "        mem_readings_stats.load_memory_readings(epoch=epoch)\n",
    "        memory_readings_per_epoch[epoch] = mem_readings_stats.memory_readings\n",
    "\n",
    "    for epoch, mem_readings in memory_readings_per_epoch.items():\n",
    "        tmp_df = pd.DataFrame()\n",
    "        tmp_df['epoch'] = [epoch]*len(mem_readings.T)\n",
    "        tmp_df['2-norm'] = torch.norm(mem_readings, dim=0).cpu().numpy()\n",
    "        tmp_df['run'] = [model+'(var)']*len(mem_readings.T)\n",
    "        mem_readings_df = pd.concat((mem_readings_df, tmp_df))"
   ]
  },
  {
   "cell_type": "code",
   "execution_count": 70,
   "id": "033d5446",
   "metadata": {},
   "outputs": [
    {
     "data": {
      "image/png": "[encoded data removed]",
      "text/plain": [
       "<Figure size 640x480 with 1 Axes>"
      ]
     },
     "metadata": {},
     "output_type": "display_data"
    }
   ],
   "source": [
    "_ = sns.lineplot(mem_readings_df, x=\"epoch\", y=\"2-norm\", hue=\"run\")"
   ]
  }
 ],
 "metadata": {
  "kernelspec": {
   "display_name": "seq-mnist",
   "language": "python",
   "name": "seq-mnist"
  },
  "language_info": {
   "codemirror_mode": {
    "name": "ipython",
    "version": 3
   },
   "file_extension": ".py",
   "mimetype": "text/x-python",
   "name": "python",
   "nbconvert_exporter": "python",
   "pygments_lexer": "ipython3",
   "version": "3.10.6"
  }
 },
 "nbformat": 4,
 "nbformat_minor": 5
}

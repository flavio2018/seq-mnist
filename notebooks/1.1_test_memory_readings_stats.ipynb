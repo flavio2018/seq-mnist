{
 "cells": [
  {
   "cell_type": "code",
   "execution_count": 1,
   "id": "53086e9f",
   "metadata": {},
   "outputs": [],
   "source": [
    "import torch\n",
    "import seaborn as sns\n",
    "\n",
    "from model.dntm.MemoryReadingsStats import MemoryReadingsStats"
   ]
  },
  {
   "cell_type": "code",
   "execution_count": 18,
   "id": "d37e7089",
   "metadata": {},
   "outputs": [
    {
     "name": "stdout",
     "output_type": "stream",
     "text": [
      "memory_readings1.pt  memory_readings2.pt  memory_readings3.pt\r\n"
     ]
    }
   ],
   "source": [
    "! ls ../data/interim/"
   ]
  },
  {
   "cell_type": "code",
   "execution_count": 12,
   "id": "e71149f1",
   "metadata": {},
   "outputs": [],
   "source": [
    "memory_readings_stats = MemoryReadingsStats(path='../data/interim/')"
   ]
  },
  {
   "cell_type": "code",
   "execution_count": 4,
   "id": "f33f1973",
   "metadata": {},
   "outputs": [],
   "source": [
    "memory_size = 8 + 8\n",
    "batch_size = 16"
   ]
  },
  {
   "cell_type": "code",
   "execution_count": 13,
   "id": "50e2b2df",
   "metadata": {},
   "outputs": [],
   "source": [
    "memory_readings_stats.memory_readings"
   ]
  },
  {
   "cell_type": "code",
   "execution_count": 17,
   "id": "c3e0433c",
   "metadata": {},
   "outputs": [],
   "source": [
    "memory_readings_stats.update_memory_readings(torch.rand(batch_size, memory_size))"
   ]
  },
  {
   "cell_type": "code",
   "execution_count": 19,
   "id": "3d125d76",
   "metadata": {},
   "outputs": [
    {
     "data": {
      "text/plain": [
       "tensor([0.0841, 0.0736, 0.0785, 0.0860, 0.0763, 0.0980, 0.0833, 0.0739, 0.0828,\n",
       "        0.0753, 0.0642, 0.0640, 0.0800, 0.0909, 0.0976, 0.0831])"
      ]
     },
     "execution_count": 19,
     "metadata": {},
     "output_type": "execute_result"
    }
   ],
   "source": [
    "memory_readings_stats.compute_readings_variance()"
   ]
  },
  {
   "cell_type": "code",
   "execution_count": 20,
   "id": "c0b22e10",
   "metadata": {},
   "outputs": [],
   "source": [
    "memory_readings_stats.init_random_matrix(memory_size)"
   ]
  },
  {
   "cell_type": "code",
   "execution_count": 21,
   "id": "a46af2e8",
   "metadata": {
    "scrolled": true
   },
   "outputs": [
    {
     "data": {
      "text/plain": [
       "tensor([[5.3397, 5.7023],\n",
       "        [4.9868, 5.7332],\n",
       "        [4.7698, 5.9639],\n",
       "        [2.7125, 2.9670],\n",
       "        [4.3644, 5.0299],\n",
       "        [5.0383, 4.9898],\n",
       "        [3.1356, 3.5749],\n",
       "        [4.6778, 5.0214],\n",
       "        [5.1548, 6.7070],\n",
       "        [4.6056, 5.0262],\n",
       "        [5.1145, 5.5945],\n",
       "        [3.8600, 4.5429],\n",
       "        [3.7688, 4.0976],\n",
       "        [4.5330, 6.0347],\n",
       "        [3.5654, 3.7366],\n",
       "        [3.7328, 4.7185],\n",
       "        [3.0826, 3.4422],\n",
       "        [4.1636, 4.8346],\n",
       "        [4.0020, 4.4565],\n",
       "        [4.1196, 5.0989],\n",
       "        [4.3544, 4.8893],\n",
       "        [4.0598, 4.5356],\n",
       "        [3.2160, 3.8932],\n",
       "        [4.8597, 4.6240],\n",
       "        [3.7672, 4.3594],\n",
       "        [3.6428, 3.8694],\n",
       "        [3.0832, 3.4423],\n",
       "        [4.8304, 5.5970],\n",
       "        [4.1402, 5.6560],\n",
       "        [2.7946, 3.8560],\n",
       "        [3.7466, 4.7605],\n",
       "        [2.8769, 3.1487],\n",
       "        [5.0655, 5.2286],\n",
       "        [3.8910, 3.8559],\n",
       "        [4.5809, 5.4240],\n",
       "        [4.0764, 4.6246],\n",
       "        [4.0098, 3.8419],\n",
       "        [4.8214, 5.5058],\n",
       "        [4.4792, 4.3836],\n",
       "        [3.4629, 4.2003],\n",
       "        [3.8871, 4.3849],\n",
       "        [4.9235, 4.9808],\n",
       "        [5.1921, 5.4815],\n",
       "        [4.5758, 5.1635],\n",
       "        [3.5178, 4.4026],\n",
       "        [4.6415, 5.6188],\n",
       "        [4.0103, 4.2367],\n",
       "        [4.5325, 5.7526]])"
      ]
     },
     "execution_count": 21,
     "metadata": {},
     "output_type": "execute_result"
    }
   ],
   "source": [
    "memory_readings_stats.compute_random_projections()"
   ]
  },
  {
   "cell_type": "code",
   "execution_count": 22,
   "id": "67e036b1",
   "metadata": {
    "scrolled": false
   },
   "outputs": [
    {
     "data": {
      "image/png": "[encoded data removed]",
      "text/plain": [
       "<Figure size 432x432 with 3 Axes>"
      ]
     },
     "metadata": {
      "needs_background": "light"
     },
     "output_type": "display_data"
    }
   ],
   "source": [
    "_ = sns.jointplot(x=memory_readings_stats.random_projections[:, 0],\n",
    "                  y=memory_readings_stats.random_projections[:, 1])"
   ]
  },
  {
   "cell_type": "code",
   "execution_count": 23,
   "id": "61337eb5",
   "metadata": {},
   "outputs": [
    {
     "name": "stderr",
     "output_type": "stream",
     "text": [
      "/media/shift97/MyPassport/Flavio/repos/seq-mnist/.env/lib/python3.10/site-packages/torch/nn/functional.py:2904: UserWarning: reduction: 'mean' divides the total loss by both the batch size and the support size.'batchmean' divides only by the batch size, and aligns with the KL div math definition.'mean' will be changed to behave the same as 'batchmean' in the next major release.\n",
      "  warnings.warn(\n"
     ]
    },
    {
     "data": {
      "text/plain": [
       "tensor(-0.5088)"
      ]
     },
     "execution_count": 23,
     "metadata": {},
     "output_type": "execute_result"
    }
   ],
   "source": [
    "memory_readings_stats.compute_readings_kl_divergence()"
   ]
  },
  {
   "cell_type": "code",
   "execution_count": 24,
   "id": "532aafe7",
   "metadata": {},
   "outputs": [
    {
     "name": "stdout",
     "output_type": "stream",
     "text": [
      "Readings variance: tensor([0.0841, 0.0736, 0.0785, 0.0860, 0.0763, 0.0980, 0.0833, 0.0739, 0.0828,\n",
      "        0.0753, 0.0642, 0.0640, 0.0800, 0.0909, 0.0976, 0.0831])\n",
      "Readings KL divergence from uniform distribution: -0.5087770223617554\n",
      "\n"
     ]
    }
   ],
   "source": [
    "print(memory_readings_stats)"
   ]
  }
 ],
 "metadata": {
  "kernelspec": {
   "display_name": "seq-mnist",
   "language": "python",
   "name": "seq-mnist"
  },
  "language_info": {
   "codemirror_mode": {
    "name": "ipython",
    "version": 3
   },
   "file_extension": ".py",
   "mimetype": "text/x-python",
   "name": "python",
   "nbconvert_exporter": "python",
   "pygments_lexer": "ipython3",
   "version": "3.10.5"
  }
 },
 "nbformat": 4,
 "nbformat_minor": 5
}

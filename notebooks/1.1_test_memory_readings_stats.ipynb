{
 "cells": [
  {
   "cell_type": "code",
   "execution_count": 1,
   "id": "11fc2056",
   "metadata": {},
   "outputs": [],
   "source": [
    "%load_ext autoreload\n",
    "%autoreload 1"
   ]
  },
  {
   "cell_type": "code",
   "execution_count": 2,
   "id": "21abe87c",
   "metadata": {},
   "outputs": [],
   "source": [
    "%aimport model.dntm.MemoryReadingsStats"
   ]
  },
  {
   "cell_type": "code",
   "execution_count": 3,
   "id": "53086e9f",
   "metadata": {},
   "outputs": [],
   "source": [
    "import torch\n",
    "import seaborn as sns\n",
    "\n",
    "from model.dntm.MemoryReadingsStats import MemoryReadingsStats"
   ]
  },
  {
   "cell_type": "code",
   "execution_count": 4,
   "id": "d37e7089",
   "metadata": {
    "scrolled": true
   },
   "outputs": [
    {
     "name": "stdout",
     "output_type": "stream",
     "text": [
      "memory_readings\t\t       memory_readings_007_epoch2.pt\r\n",
      "memory_readings_001_epoch0.pt  memory_readings_007_epoch3.pt\r\n",
      "memory_readings_001_epoch1.pt  memory_readings_007_epoch4.pt\r\n",
      "memory_readings_001_epoch2.pt  memory_readings_007_epoch5.pt\r\n",
      "memory_readings_001_epoch3.pt  memory_readings_007_epoch6.pt\r\n",
      "memory_readings_001_epoch4.pt  memory_readings_007_epoch7.pt\r\n",
      "memory_readings_001_epoch5.pt  memory_readings_007_epoch8.pt\r\n",
      "memory_readings_001_epoch6.pt  memory_readings_007_epoch9.pt\r\n",
      "memory_readings_001_epoch7.pt  memory_readings_008_epoch0.pt\r\n",
      "memory_readings_001_epoch8.pt  memory_readings_008_epoch1.pt\r\n",
      "memory_readings_001_epoch9.pt  memory_readings_008_epoch2.pt\r\n",
      "memory_readings_002_epoch0.pt  memory_readings_008_epoch3.pt\r\n",
      "memory_readings_002_epoch1.pt  memory_readings_008_epoch4.pt\r\n",
      "memory_readings_002_epoch2.pt  memory_readings_008_epoch5.pt\r\n",
      "memory_readings_002_epoch3.pt  memory_readings_008_epoch6.pt\r\n",
      "memory_readings_002_epoch4.pt  memory_readings_008_epoch7.pt\r\n",
      "memory_readings_002_epoch5.pt  memory_readings_008_epoch8.pt\r\n",
      "memory_readings_002_epoch6.pt  memory_readings_008_epoch9.pt\r\n",
      "memory_readings_002_epoch7.pt  memory_readings_009_epoch0.pt\r\n",
      "memory_readings_002_epoch8.pt  memory_readings_009_epoch1.pt\r\n",
      "memory_readings_002_epoch9.pt  memory_readings_009_epoch2.pt\r\n",
      "memory_readings_003_epoch0.pt  memory_readings_009_epoch3.pt\r\n",
      "memory_readings_003_epoch1.pt  memory_readings_009_epoch4.pt\r\n",
      "memory_readings_003_epoch2.pt  memory_readings_009_epoch5.pt\r\n",
      "memory_readings_003_epoch3.pt  memory_readings_009_epoch6.pt\r\n",
      "memory_readings_003_epoch4.pt  memory_readings_009_epoch7.pt\r\n",
      "memory_readings_003_epoch5.pt  memory_readings_009_epoch8.pt\r\n",
      "memory_readings_003_epoch6.pt  memory_readings_009_epoch9.pt\r\n",
      "memory_readings_003_epoch7.pt  memory_readings_010_epoch0.pt\r\n",
      "memory_readings_003_epoch8.pt  memory_readings_010_epoch1.pt\r\n",
      "memory_readings_003_epoch9.pt  memory_readings_010_epoch2.pt\r\n",
      "memory_readings_004_epoch0.pt  memory_readings_010_epoch3.pt\r\n",
      "memory_readings_004_epoch1.pt  memory_readings_010_epoch4.pt\r\n",
      "memory_readings_004_epoch2.pt  memory_readings_010_epoch5.pt\r\n",
      "memory_readings_004_epoch3.pt  memory_readings_010_epoch6.pt\r\n",
      "memory_readings_004_epoch4.pt  memory_readings_010_epoch7.pt\r\n",
      "memory_readings_004_epoch5.pt  memory_readings_010_epoch8.pt\r\n",
      "memory_readings_004_epoch6.pt  memory_readings_010_epoch9.pt\r\n",
      "memory_readings_004_epoch7.pt  memory_readings_011_epoch0.pt\r\n",
      "memory_readings_004_epoch8.pt  memory_readings_011_epoch1.pt\r\n",
      "memory_readings_004_epoch9.pt  memory_readings_012_epoch0.pt\r\n",
      "memory_readings_005_epoch0.pt  memory_readings_013_epoch0.pt\r\n",
      "memory_readings_005_epoch1.pt  memory_readings_014_epoch0.pt\r\n",
      "memory_readings_005_epoch2.pt  memory_readings_015_epoch0.pt\r\n",
      "memory_readings_005_epoch3.pt  memory_readings_016_epoch0.pt\r\n",
      "memory_readings_005_epoch4.pt  memory_readings_017_epoch0.pt\r\n",
      "memory_readings_005_epoch5.pt  memory_readings_018_epoch0.pt\r\n",
      "memory_readings_005_epoch6.pt  memory_readings_019_epoch0.pt\r\n",
      "memory_readings_005_epoch7.pt  memory_readings_020_epoch0.pt\r\n",
      "memory_readings_005_epoch8.pt  memory_readings_021_epoch0.pt\r\n",
      "memory_readings_005_epoch9.pt  memory_readings_022_epoch0.pt\r\n",
      "memory_readings_006_epoch0.pt  memory_readings_023_epoch0.pt\r\n",
      "memory_readings_006_epoch1.pt  memory_readings_024_epoch0.pt\r\n",
      "memory_readings_006_epoch2.pt  memory_readings_025_epoch0.pt\r\n",
      "memory_readings_006_epoch3.pt  memory_readings_026_epoch0.pt\r\n",
      "memory_readings_006_epoch4.pt  memory_readings_027_epoch0.pt\r\n",
      "memory_readings_006_epoch5.pt  memory_readings_028_epoch0.pt\r\n",
      "memory_readings_006_epoch6.pt  memory_readings_029_epoch0.pt\r\n",
      "memory_readings_006_epoch7.pt  memory_readings_030_epoch0.pt\r\n",
      "memory_readings_006_epoch8.pt  memory_readings_031_epoch0.pt\r\n",
      "memory_readings_006_epoch9.pt  memory_readings_032_epoch0.pt\r\n",
      "memory_readings_007_epoch0.pt  memory_readings_projections_epoch000.png\r\n",
      "memory_readings_007_epoch1.pt\r\n"
     ]
    }
   ],
   "source": [
    "! ls ../data/interim/"
   ]
  },
  {
   "cell_type": "code",
   "execution_count": 5,
   "id": "e71149f1",
   "metadata": {},
   "outputs": [],
   "source": [
    "memory_readings_stats = MemoryReadingsStats(path='../data/interim')"
   ]
  },
  {
   "cell_type": "code",
   "execution_count": 6,
   "id": "f33f1973",
   "metadata": {},
   "outputs": [],
   "source": [
    "memory_size = 8 + 8\n",
    "batch_size = 4\n",
    "num_readings = 10"
   ]
  },
  {
   "cell_type": "code",
   "execution_count": 12,
   "id": "50e2b2df",
   "metadata": {},
   "outputs": [],
   "source": [
    "memory_readings_stats.memory_readings"
   ]
  },
  {
   "cell_type": "code",
   "execution_count": 14,
   "id": "c3e0433c",
   "metadata": {},
   "outputs": [],
   "source": [
    "memory_readings_stats.update_memory_readings(torch.rand(batch_size, memory_size), epoch=1)"
   ]
  },
  {
   "cell_type": "code",
   "execution_count": 7,
   "id": "d3f2d93e",
   "metadata": {},
   "outputs": [],
   "source": [
    "for epoch in range(10):\n",
    "    for _ in range(num_readings):\n",
    "        memory_readings_stats.update_memory_readings(torch.rand(batch_size, memory_size), epoch)"
   ]
  },
  {
   "cell_type": "code",
   "execution_count": 7,
   "id": "51cdf538",
   "metadata": {},
   "outputs": [],
   "source": [
    "memory_readings_stats.load_memory_readings(epoch=2)"
   ]
  },
  {
   "cell_type": "code",
   "execution_count": 8,
   "id": "3d125d76",
   "metadata": {},
   "outputs": [
    {
     "data": {
      "text/plain": [
       "tensor([0.0816, 0.0827, 0.0967, 0.0764, 0.0846, 0.0813, 0.0899, 0.0890, 0.0744,\n",
       "        0.0839, 0.0928, 0.0928, 0.0783, 0.0757, 0.0798, 0.0814])"
      ]
     },
     "execution_count": 8,
     "metadata": {},
     "output_type": "execute_result"
    }
   ],
   "source": [
    "memory_readings_stats.compute_readings_variance()"
   ]
  },
  {
   "cell_type": "code",
   "execution_count": 9,
   "id": "c0b22e10",
   "metadata": {},
   "outputs": [],
   "source": [
    "memory_readings_stats.init_random_matrix(memory_size)"
   ]
  },
  {
   "cell_type": "code",
   "execution_count": 10,
   "id": "cb9e6023",
   "metadata": {},
   "outputs": [
    {
     "data": {
      "text/plain": [
       "tensor(1.)"
      ]
     },
     "execution_count": 10,
     "metadata": {},
     "output_type": "execute_result"
    }
   ],
   "source": [
    "torch.linalg.norm(memory_readings_stats.random_matrix[0])"
   ]
  },
  {
   "cell_type": "code",
   "execution_count": 11,
   "id": "a46af2e8",
   "metadata": {
    "scrolled": true
   },
   "outputs": [
    {
     "data": {
      "text/plain": [
       "tensor([[4.4385, 4.5874],\n",
       "        [3.3225, 3.6644],\n",
       "        [3.5091, 4.2308],\n",
       "        [4.2081, 4.3556],\n",
       "        [4.3186, 4.2710],\n",
       "        [4.0856, 4.9512],\n",
       "        [5.2822, 5.4530],\n",
       "        [5.3542, 4.9603],\n",
       "        [4.4926, 2.3904],\n",
       "        [4.9991, 5.6896],\n",
       "        [4.7357, 3.9679],\n",
       "        [4.7526, 4.7711],\n",
       "        [3.9562, 3.7841],\n",
       "        [4.9681, 5.4818],\n",
       "        [4.5942, 4.6559],\n",
       "        [4.0355, 4.0443],\n",
       "        [4.6720, 4.2133],\n",
       "        [3.6138, 5.1342],\n",
       "        [5.9182, 5.7910],\n",
       "        [4.6541, 4.3165],\n",
       "        [6.6103, 6.9122],\n",
       "        [4.9203, 5.4923],\n",
       "        [4.5746, 4.8631],\n",
       "        [5.7482, 4.5732],\n",
       "        [4.4035, 4.0381],\n",
       "        [4.5268, 4.5875],\n",
       "        [5.6504, 5.1960],\n",
       "        [5.3816, 4.7476],\n",
       "        [3.6191, 4.3081],\n",
       "        [4.4322, 5.2225],\n",
       "        [6.2262, 5.1685],\n",
       "        [4.6480, 5.8616],\n",
       "        [6.0630, 5.3072],\n",
       "        [5.4300, 5.1476],\n",
       "        [5.0736, 4.8535],\n",
       "        [5.0251, 5.1605],\n",
       "        [5.1662, 4.4173],\n",
       "        [5.4332, 5.8462],\n",
       "        [3.1991, 4.9671],\n",
       "        [4.5553, 4.6879],\n",
       "        [5.8408, 5.1791],\n",
       "        [4.5708, 4.3653],\n",
       "        [4.9875, 6.3182],\n",
       "        [5.2749, 5.9745],\n",
       "        [6.8432, 5.4227],\n",
       "        [5.4204, 5.2927],\n",
       "        [5.0695, 5.3518],\n",
       "        [5.5796, 5.0504],\n",
       "        [4.6846, 4.4189],\n",
       "        [5.9406, 5.2376],\n",
       "        [6.7756, 5.2129],\n",
       "        [3.3324, 4.5292],\n",
       "        [3.5009, 3.5557],\n",
       "        [3.9737, 3.9760],\n",
       "        [5.2581, 4.9687],\n",
       "        [5.9360, 6.5799],\n",
       "        [4.5268, 5.4071],\n",
       "        [4.8546, 4.9724],\n",
       "        [6.3710, 4.4539],\n",
       "        [4.4765, 4.4743],\n",
       "        [6.0503, 5.0899],\n",
       "        [5.1665, 6.0118],\n",
       "        [5.5865, 6.1566],\n",
       "        [4.6730, 4.8778],\n",
       "        [6.1687, 5.6875],\n",
       "        [5.9931, 6.5887],\n",
       "        [4.0025, 5.0546],\n",
       "        [3.2403, 4.2157],\n",
       "        [3.8988, 4.1128],\n",
       "        [5.3043, 5.2405],\n",
       "        [3.9187, 4.2872],\n",
       "        [4.0358, 3.8314],\n",
       "        [6.2164, 5.9669],\n",
       "        [6.2805, 6.0771],\n",
       "        [3.6635, 4.6135],\n",
       "        [4.3671, 4.3884],\n",
       "        [5.7180, 4.9234],\n",
       "        [6.8619, 5.9968],\n",
       "        [4.9032, 4.3333],\n",
       "        [5.7807, 6.6387],\n",
       "        [3.9468, 3.8341],\n",
       "        [4.6084, 3.9044],\n",
       "        [6.2173, 4.9814],\n",
       "        [5.8823, 5.2195],\n",
       "        [5.1895, 5.8651],\n",
       "        [3.6990, 4.5854],\n",
       "        [5.2416, 6.6856],\n",
       "        [4.6212, 4.6805],\n",
       "        [5.4633, 5.8481],\n",
       "        [5.2656, 6.3795],\n",
       "        [5.5874, 5.5399],\n",
       "        [2.6850, 3.6246],\n",
       "        [4.2083, 3.9386],\n",
       "        [4.2631, 3.4623],\n",
       "        [5.0931, 5.5519],\n",
       "        [5.8804, 5.3566],\n",
       "        [3.9606, 4.5196],\n",
       "        [3.8984, 4.8239],\n",
       "        [4.0454, 3.3195],\n",
       "        [5.6860, 5.5269],\n",
       "        [5.1178, 5.3133],\n",
       "        [5.9894, 6.5846],\n",
       "        [5.3673, 4.9975],\n",
       "        [5.2968, 5.3699],\n",
       "        [3.9126, 4.6995],\n",
       "        [6.7039, 5.6824],\n",
       "        [4.8456, 3.6782],\n",
       "        [5.5306, 5.2604],\n",
       "        [5.2265, 5.3407],\n",
       "        [4.6316, 4.3634],\n",
       "        [3.8091, 4.1769],\n",
       "        [3.9681, 3.2267],\n",
       "        [6.1082, 5.4695],\n",
       "        [4.8613, 4.7072],\n",
       "        [6.9678, 5.6871],\n",
       "        [5.7747, 4.5817],\n",
       "        [5.8632, 5.8187],\n",
       "        [4.4639, 4.0694],\n",
       "        [4.7847, 4.6947],\n",
       "        [4.2948, 4.0105],\n",
       "        [4.8726, 5.2255],\n",
       "        [4.8560, 4.7004],\n",
       "        [4.4971, 5.4915],\n",
       "        [5.4178, 5.5180],\n",
       "        [4.6041, 4.7195],\n",
       "        [4.8643, 4.7226],\n",
       "        [4.6654, 4.4724],\n",
       "        [5.2317, 5.3060],\n",
       "        [5.6275, 5.8823],\n",
       "        [5.1707, 5.7507],\n",
       "        [2.9419, 2.4653],\n",
       "        [4.7372, 5.6415],\n",
       "        [4.9589, 4.6127],\n",
       "        [5.5979, 5.2864],\n",
       "        [5.3808, 6.5118],\n",
       "        [4.6183, 4.9266],\n",
       "        [3.3835, 3.6261],\n",
       "        [5.5705, 4.9098],\n",
       "        [5.2982, 5.5238],\n",
       "        [5.6523, 4.7386],\n",
       "        [4.6620, 4.6594],\n",
       "        [4.9709, 4.0534],\n",
       "        [5.1907, 5.3664],\n",
       "        [4.8163, 4.7807],\n",
       "        [5.9673, 5.2288],\n",
       "        [4.5989, 4.3627],\n",
       "        [3.6008, 4.8588],\n",
       "        [5.5080, 6.3292],\n",
       "        [4.1003, 4.7751],\n",
       "        [6.0381, 6.0893],\n",
       "        [4.4178, 3.1942],\n",
       "        [4.9814, 5.9419],\n",
       "        [5.5318, 6.1041],\n",
       "        [5.8552, 5.7077],\n",
       "        [3.9719, 4.1594],\n",
       "        [5.2185, 5.0925],\n",
       "        [4.9736, 5.3848],\n",
       "        [6.7512, 5.0860],\n",
       "        [2.6931, 3.8241],\n",
       "        [5.9115, 5.9222]])"
      ]
     },
     "execution_count": 11,
     "metadata": {},
     "output_type": "execute_result"
    }
   ],
   "source": [
    "memory_readings_stats.compute_random_projections()"
   ]
  },
  {
   "cell_type": "code",
   "execution_count": 12,
   "id": "67e036b1",
   "metadata": {
    "scrolled": false
   },
   "outputs": [
    {
     "data": {
      "image/png": "[encoded data removed]",
      "text/plain": [
       "<Figure size 432x432 with 3 Axes>"
      ]
     },
     "metadata": {
      "needs_background": "light"
     },
     "output_type": "display_data"
    }
   ],
   "source": [
    "_ = sns.jointplot(x=memory_readings_stats.random_projections[:, 0],\n",
    "                  y=memory_readings_stats.random_projections[:, 1])"
   ]
  },
  {
   "cell_type": "code",
   "execution_count": 13,
   "id": "244f2b5f",
   "metadata": {},
   "outputs": [
    {
     "data": {
      "text/plain": [
       "tensor(0.9997)"
      ]
     },
     "execution_count": 13,
     "metadata": {},
     "output_type": "execute_result"
    }
   ],
   "source": [
    "memory_readings_stats.memory_readings.max()"
   ]
  },
  {
   "cell_type": "code",
   "execution_count": 14,
   "id": "61337eb5",
   "metadata": {
    "scrolled": true
   },
   "outputs": [
    {
     "data": {
      "text/plain": [
       "tensor([[-0.4091, -0.7069, -0.4471,  ..., -0.4827, -0.0530, -0.5771],\n",
       "        [-0.7877, -0.2423, -0.6146,  ..., -0.5581, -0.2435, -0.1692],\n",
       "        [-0.3745, -0.4974, -0.4045,  ..., -0.7079, -0.4415, -0.6800],\n",
       "        ...,\n",
       "        [-0.6914, -0.0984, -0.2450,  ..., -0.5006, -0.8293, -0.3988],\n",
       "        [-0.3248, -0.3421, -0.3162,  ..., -0.8427, -0.2517, -0.5758],\n",
       "        [-0.2531, -0.1253, -0.4684,  ..., -0.7932, -0.4085, -0.7294]])"
      ]
     },
     "execution_count": 14,
     "metadata": {},
     "output_type": "execute_result"
    }
   ],
   "source": [
    "memory_readings_stats.compute_readings_kl_divergence()"
   ]
  },
  {
   "cell_type": "code",
   "execution_count": 15,
   "id": "532aafe7",
   "metadata": {},
   "outputs": [
    {
     "name": "stdout",
     "output_type": "stream",
     "text": [
      "Readings variance: tensor([0.0816, 0.0827, 0.0967, 0.0764, 0.0846, 0.0813, 0.0899, 0.0890, 0.0744,\n",
      "        0.0839, 0.0928, 0.0928, 0.0783, 0.0757, 0.0798, 0.0814])\n",
      "Readings KL divergence from uniform distribution: tensor([[-0.4091, -0.7069, -0.4471,  ..., -0.4827, -0.0530, -0.5771],\n",
      "        [-0.7877, -0.2423, -0.6146,  ..., -0.5581, -0.2435, -0.1692],\n",
      "        [-0.3745, -0.4974, -0.4045,  ..., -0.7079, -0.4415, -0.6800],\n",
      "        ...,\n",
      "        [-0.6914, -0.0984, -0.2450,  ..., -0.5006, -0.8293, -0.3988],\n",
      "        [-0.3248, -0.3421, -0.3162,  ..., -0.8427, -0.2517, -0.5758],\n",
      "        [-0.2531, -0.1253, -0.4684,  ..., -0.7932, -0.4085, -0.7294]])\n",
      "\n"
     ]
    }
   ],
   "source": [
    "print(memory_readings_stats)"
   ]
  },
  {
   "cell_type": "code",
   "execution_count": 15,
   "id": "04ef99f7",
   "metadata": {
    "collapsed": true
   },
   "outputs": [
    {
     "data": {
      "image/png": "[encoded data removed]",
      "text/plain": [
       "<Figure size 576x576 with 1 Axes>"
      ]
     },
     "metadata": {
      "needs_background": "light"
     },
     "output_type": "display_data"
    },
    {
     "data": {
      "image/png": "[encoded data removed]",
      "text/plain": [
       "<Figure size 432x432 with 3 Axes>"
      ]
     },
     "metadata": {
      "needs_background": "light"
     },
     "output_type": "display_data"
    }
   ],
   "source": [
    "memory_readings_stats.plot_random_projections()"
   ]
  }
 ],
 "metadata": {
  "kernelspec": {
   "display_name": "seq-mnist",
   "language": "python",
   "name": "seq-mnist"
  },
  "language_info": {
   "codemirror_mode": {
    "name": "ipython",
    "version": 3
   },
   "file_extension": ".py",
   "mimetype": "text/x-python",
   "name": "python",
   "nbconvert_exporter": "python",
   "pygments_lexer": "ipython3",
   "version": "3.10.5"
  }
 },
 "nbformat": 4,
 "nbformat_minor": 5
}

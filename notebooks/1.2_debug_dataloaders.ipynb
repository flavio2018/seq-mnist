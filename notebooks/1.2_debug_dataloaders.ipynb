{
 "cells": [
  {
   "cell_type": "code",
   "execution_count": 1,
   "id": "c1b695a0",
   "metadata": {},
   "outputs": [],
   "source": [
    "from hydra import compose, initialize\n",
    "import pandas as pd\n",
    "import omegaconf\n",
    "import torch\n",
    "\n",
    "from data.perm_seq_mnist import get_dataloaders\n",
    "from utils.run_utils import configure_reproducibility"
   ]
  },
  {
   "cell_type": "code",
   "execution_count": 2,
   "id": "6aa11e81",
   "metadata": {},
   "outputs": [],
   "source": [
    "initialize(config_path=\"../conf/local\", job_name=\"debug_dl\")\n",
    "cfg = compose(config_name=\"test_model_mnist\")"
   ]
  },
  {
   "cell_type": "code",
   "execution_count": 3,
   "id": "feeffb55",
   "metadata": {},
   "outputs": [],
   "source": [
    "rng = configure_reproducibility(cfg.run.seed)"
   ]
  },
  {
   "cell_type": "code",
   "execution_count": 4,
   "id": "606c3a68",
   "metadata": {},
   "outputs": [],
   "source": [
    "_, valid_dl = get_dataloaders(cfg, rng)"
   ]
  },
  {
   "cell_type": "code",
   "execution_count": 5,
   "id": "2a8876c5",
   "metadata": {},
   "outputs": [
    {
     "name": "stdout",
     "output_type": "stream",
     "text": [
      "run:\n",
      "  device: cpu\n",
      "  loglevel: INFO\n",
      "  project_path: /media/shift97/MyPassport/Flavio/repos/seq-mnist\n",
      "  codename: default_local\n",
      "  seed: 2147483647\n",
      "  wandb_mode: disabled\n",
      "data:\n",
      "  num_train: 10000\n",
      "  num_test: 10000\n",
      "  permute: false\n",
      "train:\n",
      "  batch_size: 4\n",
      "  perc_valid: 0.1\n",
      "model:\n",
      "  name: dntm\n",
      "  n_locations: 1000\n",
      "  content_size: 8\n",
      "  address_size: 8\n",
      "  controller_input_size: 1\n",
      "  controller_output_size: 10\n",
      "  controller_hidden_state_size: 100\n",
      "  ckpt: ${run.project_path}/models/checkpoints/dntm_trained_smnist_18-05-22.pth\n",
      "\n"
     ]
    }
   ],
   "source": [
    "print(omegaconf.OmegaConf.to_yaml(cfg))"
   ]
  },
  {
   "cell_type": "code",
   "execution_count": 10,
   "id": "814f9426",
   "metadata": {},
   "outputs": [],
   "source": [
    "all_labels=torch.tensor([])\n",
    "for batch, labels in valid_dl:\n",
    "    all_labels = torch.cat([all_labels, labels]"
   ]
  },
  {
   "cell_type": "code",
   "execution_count": 11,
   "id": "f041540f",
   "metadata": {},
   "outputs": [
    {
     "data": {
      "text/plain": [
       "tensor([0., 5., 7., 5., 4., 9., 6., 4., 2., 7., 0., 0., 8., 9., 7., 3., 5., 8.,\n",
       "        2., 3., 5., 6., 7., 9., 1., 7., 6., 7., 8., 4., 2., 1., 5., 1., 9., 2.,\n",
       "        5., 1., 2., 3., 9., 7., 4., 3., 1., 9., 5., 1., 1., 3., 4., 1., 2., 1.,\n",
       "        8., 5., 2., 4., 8., 4., 7., 1., 6., 5., 3., 2., 6., 6., 5., 6., 9., 8.,\n",
       "        8., 8., 7., 4., 5., 4., 3., 2., 6., 6., 9., 6., 7., 9., 7., 2., 9., 3.,\n",
       "        7., 3., 8., 3., 4., 7., 4., 2., 6., 1.])"
      ]
     },
     "execution_count": 11,
     "metadata": {},
     "output_type": "execute_result"
    }
   ],
   "source": [
    "all_labels[:100]"
   ]
  },
  {
   "cell_type": "code",
   "execution_count": 7,
   "id": "bd2981a9",
   "metadata": {},
   "outputs": [
    {
     "data": {
      "text/plain": [
       "tensor([5., 4., 6., 7., 6., 6., 0., 4., 1., 9., 0., 0., 7., 7., 1., 7., 7., 7.,\n",
       "        7., 9., 9., 9., 0., 3., 3., 2., 8., 8., 0., 4., 2., 3., 2., 1., 4., 4.,\n",
       "        3., 5., 6., 1., 2., 1., 9., 4., 9., 9., 5., 0., 9., 0., 9., 8., 1., 2.,\n",
       "        5., 1., 4., 4., 4., 4., 4., 1., 6., 7., 4., 1., 2., 0., 5., 3., 2., 1.,\n",
       "        0., 1., 7., 5., 4., 7., 7., 1., 8., 0., 6., 7., 0., 4., 8., 4., 6., 4.,\n",
       "        5., 6., 8., 3., 9., 9., 1., 7., 2., 5.])"
      ]
     },
     "execution_count": 7,
     "metadata": {},
     "output_type": "execute_result"
    }
   ],
   "source": [
    "all_labels[:100]"
   ]
  },
  {
   "cell_type": "code",
   "execution_count": 19,
   "id": "229b2b47",
   "metadata": {},
   "outputs": [
    {
     "data": {
      "image/png": "[encoded data removed]",
      "text/plain": [
       "<Figure size 432x288 with 1 Axes>"
      ]
     },
     "metadata": {
      "needs_background": "light"
     },
     "output_type": "display_data"
    }
   ],
   "source": [
    "_ = pd.Series(all_labels.cpu().numpy()).value_counts().plot.barh()"
   ]
  }
 ],
 "metadata": {
  "kernelspec": {
   "display_name": "seq-mnist",
   "language": "python",
   "name": "seq-mnist"
  },
  "language_info": {
   "codemirror_mode": {
    "name": "ipython",
    "version": 3
   },
   "file_extension": ".py",
   "mimetype": "text/x-python",
   "name": "python",
   "nbconvert_exporter": "python",
   "pygments_lexer": "ipython3",
   "version": "3.10.5"
  }
 },
 "nbformat": 4,
 "nbformat_minor": 5
}
